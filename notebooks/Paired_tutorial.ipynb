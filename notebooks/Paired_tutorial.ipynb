{
 "cells": [
  {
   "cell_type": "code",
   "execution_count": 8,
   "metadata": {},
   "outputs": [],
   "source": [
    "import pandas as pd\n",
    "import OAS_wrapper"
   ]
  },
  {
   "cell_type": "markdown",
   "metadata": {},
   "source": [
    "Load the data unit file downloaded from OAS database e.g., one can use wget to download a particular data unit file wget https://opig.stats.ox.ac.uk/webapps/ngsdb/paired/Jaffe_2022/csv/1287203_1_Paired_All.csv.gz\n",
    "\n",
    "The file has metadata parameters in the first line followed by a table format of sequence related information. The below script separates metadata, print the metadata information, and saves the rest of the table in CSV format.\n"
   ]
  },
  {
   "cell_type": "code",
   "execution_count": 23,
   "metadata": {},
   "outputs": [
    {
     "name": "stdout",
     "output_type": "stream",
     "text": [
      "Metadata:\n",
      "{'Run': 1287203, 'Link': 'https://doi.org/10.1038/s41586-022-05371-z', 'Author': 'Jaffe et al., 2022', 'Species': 'human', 'Age': 45, 'BSource': 'PBMC', 'BType': 'Naive-B-Cells', 'Vaccine': 'None', 'Disease': 'SARS-COV-2', 'Subject': 'Donor-1', 'Longitudinal': 'no', 'Unique sequences': 19627, 'Isotype': 'All', 'Chain': 'Paired'}\n"
     ]
    }
   ],
   "source": [
    "data_unit_file = \"../data/1287203_1_Paired_All.csv.gz\"\n",
    "\n",
    "# Extract metadata and sequences\n",
    "metadata, sequences = OAS_wrapper.extract_metadata_and_sequences(data_unit_file)\n",
    "\n",
    "print(\"Metadata:\")\n",
    "print(metadata)"
   ]
  },
  {
   "cell_type": "markdown",
   "metadata": {},
   "source": [
    "Exploring the columns present in the downloaded dataset for downstream analysis.\n",
    "Information rich table that has 198 columns (for paired datasets), and printing out columns that have \"heavy\" in their name."
   ]
  },
  {
   "cell_type": "code",
   "execution_count": null,
   "metadata": {},
   "outputs": [
    {
     "data": {
      "text/html": [
       "<div>\n",
       "<style scoped>\n",
       "    .dataframe tbody tr th:only-of-type {\n",
       "        vertical-align: middle;\n",
       "    }\n",
       "\n",
       "    .dataframe tbody tr th {\n",
       "        vertical-align: top;\n",
       "    }\n",
       "\n",
       "    .dataframe thead th {\n",
       "        text-align: right;\n",
       "    }\n",
       "</style>\n",
       "<table border=\"1\" class=\"dataframe\">\n",
       "  <thead>\n",
       "    <tr style=\"text-align: right;\">\n",
       "      <th></th>\n",
       "      <th>sequence_id_heavy</th>\n",
       "      <th>sequence_heavy</th>\n",
       "      <th>locus_heavy</th>\n",
       "      <th>stop_codon_heavy</th>\n",
       "      <th>vj_in_frame_heavy</th>\n",
       "      <th>v_frameshift_heavy</th>\n",
       "      <th>productive_heavy</th>\n",
       "      <th>rev_comp_heavy</th>\n",
       "      <th>complete_vdj_heavy</th>\n",
       "      <th>v_call_heavy</th>\n",
       "      <th>...</th>\n",
       "      <th>cdr3_end_light</th>\n",
       "      <th>np1_light</th>\n",
       "      <th>np1_length_light</th>\n",
       "      <th>np2_light</th>\n",
       "      <th>np2_length_light</th>\n",
       "      <th>c_region_light</th>\n",
       "      <th>Isotype_light</th>\n",
       "      <th>Redundancy_light</th>\n",
       "      <th>ANARCI_numbering_light</th>\n",
       "      <th>ANARCI_status_light</th>\n",
       "    </tr>\n",
       "  </thead>\n",
       "  <tbody>\n",
       "    <tr>\n",
       "      <th>0</th>\n",
       "      <td>AAACCTGAGAGACGAA-1_contig_1</td>\n",
       "      <td>ACATGGAAAATACTTTCTGAGAGTCCTGGACCTCCTGTGCAAGAAC...</td>\n",
       "      <td>H</td>\n",
       "      <td>F</td>\n",
       "      <td>T</td>\n",
       "      <td>F</td>\n",
       "      <td>T</td>\n",
       "      <td>F</td>\n",
       "      <td>T</td>\n",
       "      <td>IGHV4-61*02</td>\n",
       "      <td>...</td>\n",
       "      <td>410.0</td>\n",
       "      <td>NaN</td>\n",
       "      <td>0</td>\n",
       "      <td>NaN</td>\n",
       "      <td>NaN</td>\n",
       "      <td>GAACTGTGGCTGCACCATCTGTCTTCATCTTCCCGCCATCTGATGA...</td>\n",
       "      <td>Bulk</td>\n",
       "      <td>1</td>\n",
       "      <td>{'fwk1': {'1 ': 'E', '2 ': 'I', '3 ': 'V', '4 ...</td>\n",
       "      <td>|||||</td>\n",
       "    </tr>\n",
       "  </tbody>\n",
       "</table>\n",
       "<p>1 rows × 198 columns</p>\n",
       "</div>"
      ],
      "text/plain": [
       "             sequence_id_heavy  \\\n",
       "0  AAACCTGAGAGACGAA-1_contig_1   \n",
       "\n",
       "                                      sequence_heavy locus_heavy  \\\n",
       "0  ACATGGAAAATACTTTCTGAGAGTCCTGGACCTCCTGTGCAAGAAC...           H   \n",
       "\n",
       "  stop_codon_heavy vj_in_frame_heavy v_frameshift_heavy productive_heavy  \\\n",
       "0                F                 T                  F                T   \n",
       "\n",
       "  rev_comp_heavy complete_vdj_heavy v_call_heavy  ... cdr3_end_light  \\\n",
       "0              F                  T  IGHV4-61*02  ...          410.0   \n",
       "\n",
       "  np1_light np1_length_light np2_light np2_length_light  \\\n",
       "0       NaN                0       NaN              NaN   \n",
       "\n",
       "                                      c_region_light  Isotype_light  \\\n",
       "0  GAACTGTGGCTGCACCATCTGTCTTCATCTTCCCGCCATCTGATGA...           Bulk   \n",
       "\n",
       "   Redundancy_light                             ANARCI_numbering_light  \\\n",
       "0                 1  {'fwk1': {'1 ': 'E', '2 ': 'I', '3 ': 'V', '4 ...   \n",
       "\n",
       "   ANARCI_status_light  \n",
       "0                |||||  \n",
       "\n",
       "[1 rows x 198 columns]"
      ]
     },
     "execution_count": 28,
     "metadata": {},
     "output_type": "execute_result"
    }
   ],
   "source": [
    "sequences.head(n=1)\n"
   ]
  },
  {
   "cell_type": "code",
   "execution_count": 29,
   "metadata": {},
   "outputs": [
    {
     "name": "stdout",
     "output_type": "stream",
     "text": [
      "Columns with heavy string: ['sequence_id_heavy', 'sequence_heavy', 'locus_heavy', 'stop_codon_heavy', 'vj_in_frame_heavy', 'v_frameshift_heavy', 'productive_heavy', 'rev_comp_heavy', 'complete_vdj_heavy', 'v_call_heavy', 'd_call_heavy', 'j_call_heavy', 'sequence_alignment_heavy', 'germline_alignment_heavy', 'sequence_alignment_aa_heavy', 'germline_alignment_aa_heavy', 'v_alignment_start_heavy', 'v_alignment_end_heavy', 'd_alignment_start_heavy', 'd_alignment_end_heavy', 'j_alignment_start_heavy', 'j_alignment_end_heavy', 'v_sequence_alignment_heavy', 'v_sequence_alignment_aa_heavy', 'v_germline_alignment_heavy', 'v_germline_alignment_aa_heavy', 'd_sequence_alignment_heavy', 'd_sequence_alignment_aa_heavy', 'd_germline_alignment_heavy', 'd_germline_alignment_aa_heavy', 'j_sequence_alignment_heavy', 'j_sequence_alignment_aa_heavy', 'j_germline_alignment_heavy', 'j_germline_alignment_aa_heavy', 'fwr1_heavy', 'fwr1_aa_heavy', 'cdr1_heavy', 'cdr1_aa_heavy', 'fwr2_heavy', 'fwr2_aa_heavy', 'cdr2_heavy', 'cdr2_aa_heavy', 'fwr3_heavy', 'fwr3_aa_heavy', 'fwr4_heavy', 'fwr4_aa_heavy', 'cdr3_heavy', 'cdr3_aa_heavy', 'junction_heavy', 'junction_length_heavy', 'junction_aa_heavy', 'junction_aa_length_heavy', 'v_score_heavy', 'd_score_heavy', 'j_score_heavy', 'v_cigar_heavy', 'd_cigar_heavy', 'j_cigar_heavy', 'v_support_heavy', 'd_support_heavy', 'j_support_heavy', 'v_identity_heavy', 'd_identity_heavy', 'j_identity_heavy', 'v_sequence_start_heavy', 'v_sequence_end_heavy', 'v_germline_start_heavy', 'v_germline_end_heavy', 'd_sequence_start_heavy', 'd_sequence_end_heavy', 'd_germline_start_heavy', 'd_germline_end_heavy', 'j_sequence_start_heavy', 'j_sequence_end_heavy', 'j_germline_start_heavy', 'j_germline_end_heavy', 'fwr1_start_heavy', 'fwr1_end_heavy', 'cdr1_start_heavy', 'cdr1_end_heavy', 'fwr2_start_heavy', 'fwr2_end_heavy', 'cdr2_start_heavy', 'cdr2_end_heavy', 'fwr3_start_heavy', 'fwr3_end_heavy', 'fwr4_start_heavy', 'fwr4_end_heavy', 'cdr3_start_heavy', 'cdr3_end_heavy', 'np1_heavy', 'np1_length_heavy', 'np2_heavy', 'np2_length_heavy', 'c_region_heavy', 'Isotype_heavy', 'Redundancy_heavy', 'ANARCI_numbering_heavy', 'ANARCI_status_heavy']\n"
     ]
    }
   ],
   "source": [
    "columns_with_heavy_field = [col for col in sequences.columns if 'heavy' in col]\n",
    "print(\"Columns with heavy string:\", columns_with_heavy_field)"
   ]
  },
  {
   "cell_type": "markdown",
   "metadata": {},
   "source": [
    "For a subset of the above columns that are strings (i.e., sequence, germline, V, D, J etc), total and unique number of such strings can be identified, along with plotting the distributions for easy comparison."
   ]
  },
  {
   "cell_type": "code",
   "execution_count": 31,
   "metadata": {},
   "outputs": [
    {
     "name": "stdout",
     "output_type": "stream",
     "text": [
      "                  Column Name  Total Count  Unique Count\n",
      "0              sequence_heavy        19627         19459\n",
      "1  v_sequence_alignment_heavy        19627          7512\n",
      "2    germline_alignment_heavy        19627         19063\n"
     ]
    }
   ],
   "source": [
    "summary_table = OAS_wrapper.column_summary(data_unit_file, [\"sequence_heavy\", \"v_sequence_alignment_heavy\", \"germline_alignment_heavy\"])\n",
    "print(summary_table)"
   ]
  },
  {
   "cell_type": "markdown",
   "metadata": {},
   "source": [
    "From the above table, it is clear that while the number of unique sequences is less than total number, the number of unique germline is less than the unique sequences, highlighting that a single germline can be the origin of multiple sequences. In addition, the number of unique variable sequences is significantly less as expected."
   ]
  },
  {
   "cell_type": "code",
   "execution_count": null,
   "metadata": {},
   "outputs": [],
   "source": []
  }
 ],
 "metadata": {
  "kernelspec": {
   "display_name": "base",
   "language": "python",
   "name": "python3"
  },
  "language_info": {
   "codemirror_mode": {
    "name": "ipython",
    "version": 3
   },
   "file_extension": ".py",
   "mimetype": "text/x-python",
   "name": "python",
   "nbconvert_exporter": "python",
   "pygments_lexer": "ipython3",
   "version": "3.12.3"
  }
 },
 "nbformat": 4,
 "nbformat_minor": 2
}
